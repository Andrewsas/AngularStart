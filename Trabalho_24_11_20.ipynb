{
  "nbformat": 4,
  "nbformat_minor": 0,
  "metadata": {
    "colab": {
      "name": "Trabalho 24/11/20",
      "provenance": [],
      "collapsed_sections": [],
      "include_colab_link": true
    },
    "kernelspec": {
      "name": "python3",
      "display_name": "Python 3"
    }
  },
  "cells": [
    {
      "cell_type": "markdown",
      "metadata": {
        "id": "view-in-github",
        "colab_type": "text"
      },
      "source": [
        "<a href=\"https://colab.research.google.com/github/Andrewsas/AngularStart/blob/master/Trabalho_24_11_20.ipynb\" target=\"_parent\"><img src=\"https://colab.research.google.com/assets/colab-badge.svg\" alt=\"Open In Colab\"/></a>"
      ]
    },
    {
      "cell_type": "markdown",
      "metadata": {
        "id": "zTHz0U-a4-8s"
      },
      "source": [
        "#Instalação de pacotes"
      ]
    },
    {
      "cell_type": "code",
      "metadata": {
        "id": "C6k3JBwo5EOJ",
        "colab": {
          "base_uri": "https://localhost:8080/"
        },
        "outputId": "8d9464a9-6746-486e-da67-e1d2c8112b7b"
      },
      "source": [
        "!python -m textblob.download_corpora\n",
        "\n",
        "!pip install googletrans-temp"
      ],
      "execution_count": 1,
      "outputs": [
        {
          "output_type": "stream",
          "text": [
            "[nltk_data] Downloading package brown to /root/nltk_data...\n",
            "[nltk_data]   Unzipping corpora/brown.zip.\n",
            "[nltk_data] Downloading package punkt to /root/nltk_data...\n",
            "[nltk_data]   Unzipping tokenizers/punkt.zip.\n",
            "[nltk_data] Downloading package wordnet to /root/nltk_data...\n",
            "[nltk_data]   Unzipping corpora/wordnet.zip.\n",
            "[nltk_data] Downloading package averaged_perceptron_tagger to\n",
            "[nltk_data]     /root/nltk_data...\n",
            "[nltk_data]   Unzipping taggers/averaged_perceptron_tagger.zip.\n",
            "[nltk_data] Downloading package conll2000 to /root/nltk_data...\n",
            "[nltk_data]   Unzipping corpora/conll2000.zip.\n",
            "[nltk_data] Downloading package movie_reviews to /root/nltk_data...\n",
            "[nltk_data]   Unzipping corpora/movie_reviews.zip.\n",
            "Finished.\n",
            "Collecting googletrans-temp\n",
            "  Downloading https://files.pythonhosted.org/packages/03/b6/7495f6e25ab8014e4fc47ad1771948cd34f67a32fd98080369837f819dd6/googletrans-temp-2.3.0.tar.gz\n",
            "Requirement already satisfied: requests in /usr/local/lib/python3.6/dist-packages (from googletrans-temp) (2.23.0)\n",
            "Requirement already satisfied: certifi>=2017.4.17 in /usr/local/lib/python3.6/dist-packages (from requests->googletrans-temp) (2020.11.8)\n",
            "Requirement already satisfied: idna<3,>=2.5 in /usr/local/lib/python3.6/dist-packages (from requests->googletrans-temp) (2.10)\n",
            "Requirement already satisfied: chardet<4,>=3.0.2 in /usr/local/lib/python3.6/dist-packages (from requests->googletrans-temp) (3.0.4)\n",
            "Requirement already satisfied: urllib3!=1.25.0,!=1.25.1,<1.26,>=1.21.1 in /usr/local/lib/python3.6/dist-packages (from requests->googletrans-temp) (1.24.3)\n",
            "Building wheels for collected packages: googletrans-temp\n",
            "  Building wheel for googletrans-temp (setup.py) ... \u001b[?25l\u001b[?25hdone\n",
            "  Created wheel for googletrans-temp: filename=googletrans_temp-2.3.0-cp36-none-any.whl size=15675 sha256=19630373d797124de5e66f56e4116ec39f1e00197d7811f58ca73a5d4474c8c6\n",
            "  Stored in directory: /root/.cache/pip/wheels/f3/65/06/0b3e233b0e7f5888c05394b86897d41bd5cf8602db3fc9261e\n",
            "Successfully built googletrans-temp\n",
            "Installing collected packages: googletrans-temp\n",
            "Successfully installed googletrans-temp-2.3.0\n"
          ],
          "name": "stdout"
        }
      ]
    },
    {
      "cell_type": "markdown",
      "metadata": {
        "id": "ptQ2xYYXY3IY"
      },
      "source": [
        "#Importar pacotes\n"
      ]
    },
    {
      "cell_type": "code",
      "metadata": {
        "id": "N0PSqN8vZN5d",
        "colab": {
          "base_uri": "https://localhost:8080/"
        },
        "outputId": "85e6d34a-5c45-4f44-9cdf-f8240c13029a"
      },
      "source": [
        "import pandas as pd\n",
        "import string\n",
        "import time\n",
        "import csv\n",
        "import random\n",
        "from ast import literal_eval\n",
        "from textblob import TextBlob\n",
        "from google.colab import drive\n",
        "\n",
        "#import para mitigar erro au acessar aux.sentences\n",
        "import nltk\n",
        "nltk.download('punkt')\n",
        "\n",
        "from googletrans import Translator\n",
        "\n"
      ],
      "execution_count": 2,
      "outputs": [
        {
          "output_type": "stream",
          "text": [
            "[nltk_data] Downloading package punkt to /root/nltk_data...\n",
            "[nltk_data]   Package punkt is already up-to-date!\n"
          ],
          "name": "stdout"
        }
      ]
    },
    {
      "cell_type": "markdown",
      "metadata": {
        "id": "fOTCU_X1ZxEk"
      },
      "source": [
        "#Baixar dataset"
      ]
    },
    {
      "cell_type": "code",
      "metadata": {
        "id": "Jw3FouMkK9r8",
        "colab": {
          "base_uri": "https://localhost:8080/"
        },
        "outputId": "0420b394-0ebc-4ada-a195-95c074a5368e"
      },
      "source": [
        "#baixa o arquivo do dataset para o ambiente colab\n",
        "!wget \"http://tiagodemelo.info/datasets/dataset-v2.dat\"\n",
        "\n"
      ],
      "execution_count": null,
      "outputs": [
        {
          "output_type": "stream",
          "text": [
            "--2020-11-21 17:40:58--  http://tiagodemelo.info/datasets/dataset-v2.dat\n",
            "Resolving tiagodemelo.info (tiagodemelo.info)... 108.167.188.189\n",
            "Connecting to tiagodemelo.info (tiagodemelo.info)|108.167.188.189|:80... connected.\n",
            "HTTP request sent, awaiting response... 200 OK\n",
            "Length: 89773865 (86M)\n",
            "Saving to: ‘dataset-v2.dat.1’\n",
            "\n",
            "dataset-v2.dat.1    100%[===================>]  85.61M  15.4MB/s    in 7.0s    \n",
            "\n",
            "2020-11-21 17:41:06 (12.2 MB/s) - ‘dataset-v2.dat.1’ saved [89773865/89773865]\n",
            "\n"
          ],
          "name": "stdout"
        }
      ]
    },
    {
      "cell_type": "code",
      "metadata": {
        "id": "1ir_cFOyTZbQ"
      },
      "source": [
        "# ler o arquivo com dos dados do dataset baixado\n",
        "file = open(\"./dataset-v2.dat\",'r')\n",
        "\n",
        "# sepera em linhas os dados\n",
        "rows = file.readlines()\n",
        "\n",
        "# fecha o arquivo\n",
        "file.close()\n",
        "\n",
        "# criar uma lista para salvar os dicionarios\n",
        "dictionaries = []\n",
        "\n",
        "for row in rows:\n",
        "  #transforma literal em dicionario\n",
        "  saveDic = literal_eval(row)\n",
        "\n",
        "  #adiciona atributos de subdicionarios no dicionario mais externo\n",
        "  saveDic.update(saveDic['itemReviewed'].items())\n",
        "  saveDic.update(saveDic['itemReviewed']['address'].items())\n",
        "\n",
        "  # #delete subdicionarios\n",
        "  del saveDic['address']\n",
        "  del saveDic['itemReviewed']\n",
        "\n",
        "  #adiciona na lista de dicionarios\n",
        "  dictionaries.append(saveDic)\n",
        "\n",
        "\n"
      ],
      "execution_count": null,
      "outputs": []
    },
    {
      "cell_type": "code",
      "metadata": {
        "id": "LsQPEbPBMg_w",
        "colab": {
          "base_uri": "https://localhost:8080/",
          "height": 564
        },
        "outputId": "b0683ada-7dfe-4386-eadc-0d1e2d37659d"
      },
      "source": [
        "# transforma a lista de dicionario em dataframe\n",
        "data = pd.DataFrame(dictionaries)\n",
        "\n",
        "data.head()"
      ],
      "execution_count": null,
      "outputs": [
        {
          "output_type": "execute_result",
          "data": {
            "text/html": [
              "<div>\n",
              "<style scoped>\n",
              "    .dataframe tbody tr th:only-of-type {\n",
              "        vertical-align: middle;\n",
              "    }\n",
              "\n",
              "    .dataframe tbody tr th {\n",
              "        vertical-align: top;\n",
              "    }\n",
              "\n",
              "    .dataframe thead th {\n",
              "        text-align: right;\n",
              "    }\n",
              "</style>\n",
              "<table border=\"1\" class=\"dataframe\">\n",
              "  <thead>\n",
              "    <tr style=\"text-align: right;\">\n",
              "      <th></th>\n",
              "      <th>title</th>\n",
              "      <th>reviewId</th>\n",
              "      <th>restaurantId</th>\n",
              "      <th>author</th>\n",
              "      <th>reviewBody</th>\n",
              "      <th>language</th>\n",
              "      <th>mobileDevice</th>\n",
              "      <th>userLocation</th>\n",
              "      <th>publicationDate</th>\n",
              "      <th>visitDate</th>\n",
              "      <th>ratingValue</th>\n",
              "      <th>name</th>\n",
              "      <th>website</th>\n",
              "      <th>email</th>\n",
              "      <th>phoneNumber</th>\n",
              "      <th>averageRating</th>\n",
              "      <th>streetAddress</th>\n",
              "      <th>addressLocality</th>\n",
              "      <th>addressRegion</th>\n",
              "      <th>postalCode</th>\n",
              "      <th>country</th>\n",
              "    </tr>\n",
              "  </thead>\n",
              "  <tbody>\n",
              "    <tr>\n",
              "      <th>0</th>\n",
              "      <td>Jantar</td>\n",
              "      <td>692856288</td>\n",
              "      <td>2344932</td>\n",
              "      <td>larinhavercosa222</td>\n",
              "      <td>Comida maravilhosa, lugar do verdadeiro chicle...</td>\n",
              "      <td>pt</td>\n",
              "      <td>True</td>\n",
              "      <td>São Carlos, SP</td>\n",
              "      <td>26/07/2019</td>\n",
              "      <td>07/2019</td>\n",
              "      <td>5</td>\n",
              "      <td>Imperador dos Camarões</td>\n",
              "      <td>http://www.imperadordoscamaroes.com.br</td>\n",
              "      <td>contato@imperadordoscamaroes.com.br</td>\n",
              "      <td>+55 82 3231-4134</td>\n",
              "      <td>4.5</td>\n",
              "      <td>Avenida Doutor Antônio Gouveia</td>\n",
              "      <td></td>\n",
              "      <td>Alagoas</td>\n",
              "      <td>57030-170</td>\n",
              "      <td>Brasil</td>\n",
              "    </tr>\n",
              "    <tr>\n",
              "      <th>1</th>\n",
              "      <td>Uma boa experiência.</td>\n",
              "      <td>229208487</td>\n",
              "      <td>3720906</td>\n",
              "      <td>Pano P</td>\n",
              "      <td>Comida boa, drinks legais e um ambiente bem ac...</td>\n",
              "      <td>pt</td>\n",
              "      <td>True</td>\n",
              "      <td>Manaus, AM</td>\n",
              "      <td>16/09/2014</td>\n",
              "      <td>None</td>\n",
              "      <td>4</td>\n",
              "      <td>Guacamole Natal</td>\n",
              "      <td>http://www.facebook.com/GuacamoleNatal</td>\n",
              "      <td>guacamolenatal@gmail.com</td>\n",
              "      <td>+55 84 3219-3646</td>\n",
              "      <td>4.5</td>\n",
              "      <td>Avenida Praia de Ponta Negra 9068 Ponta Negra</td>\n",
              "      <td></td>\n",
              "      <td>Rio Grande do Norte</td>\n",
              "      <td>59092-100</td>\n",
              "      <td>Brasil</td>\n",
              "    </tr>\n",
              "    <tr>\n",
              "      <th>2</th>\n",
              "      <td>Otimo self service</td>\n",
              "      <td>679002332</td>\n",
              "      <td>2248105</td>\n",
              "      <td>Magma100</td>\n",
              "      <td>Excelente pra ir com a família! Ótima Comida, ...</td>\n",
              "      <td>pt</td>\n",
              "      <td>True</td>\n",
              "      <td>Goiânia, GO</td>\n",
              "      <td>04/06/2019</td>\n",
              "      <td>07/2018</td>\n",
              "      <td>4</td>\n",
              "      <td>Chica Pitanga</td>\n",
              "      <td>http://www.chicapitanga.com.br</td>\n",
              "      <td>chicapitanga@chicapitanga.com.br</td>\n",
              "      <td>+55 81 3334-8260</td>\n",
              "      <td>4.5</td>\n",
              "      <td>Rua Petrolina 19</td>\n",
              "      <td>Recife</td>\n",
              "      <td>Pernambuco</td>\n",
              "      <td>51021-250</td>\n",
              "      <td>Brasil</td>\n",
              "    </tr>\n",
              "    <tr>\n",
              "      <th>3</th>\n",
              "      <td>O sorvete mais tradicional do estado</td>\n",
              "      <td>355671519</td>\n",
              "      <td>8168302</td>\n",
              "      <td>Yurie M</td>\n",
              "      <td>Tomo sorvete na Visabor faz mais de 30 anos. S...</td>\n",
              "      <td>pt</td>\n",
              "      <td>False</td>\n",
              "      <td>Aracaju, SE</td>\n",
              "      <td>15/03/2016</td>\n",
              "      <td>01/2016</td>\n",
              "      <td>5</td>\n",
              "      <td>Sorvetes Vi Sabor</td>\n",
              "      <td>None</td>\n",
              "      <td>None</td>\n",
              "      <td>None</td>\n",
              "      <td>4.0</td>\n",
              "      <td>Avenida Francisco Porto 59 Grageru</td>\n",
              "      <td>Aracaju</td>\n",
              "      <td>Sergipe</td>\n",
              "      <td></td>\n",
              "      <td>Brasil</td>\n",
              "    </tr>\n",
              "    <tr>\n",
              "      <th>4</th>\n",
              "      <td>Melhor hamburger!</td>\n",
              "      <td>268741921</td>\n",
              "      <td>5395141</td>\n",
              "      <td>Debora_C85</td>\n",
              "      <td>O melhor hamburger que já comi! Excelente aten...</td>\n",
              "      <td>pt</td>\n",
              "      <td>False</td>\n",
              "      <td>Rio de Janeiro, RJ</td>\n",
              "      <td>28/04/2015</td>\n",
              "      <td>04/2015</td>\n",
              "      <td>5</td>\n",
              "      <td>Z Deli Sandwich Shop</td>\n",
              "      <td>http://www.facebook.com/zdelisandwichshop/</td>\n",
              "      <td>None</td>\n",
              "      <td>551130830021</td>\n",
              "      <td>4.5</td>\n",
              "      <td>Rua Haddock Lobo 1386 Jardins</td>\n",
              "      <td>São Paulo</td>\n",
              "      <td>Estado de São Paulo</td>\n",
              "      <td>01414-002</td>\n",
              "      <td>Brasil</td>\n",
              "    </tr>\n",
              "  </tbody>\n",
              "</table>\n",
              "</div>"
            ],
            "text/plain": [
              "                                  title   reviewId  ... postalCode country\n",
              "0                               Jantar   692856288  ...  57030-170  Brasil\n",
              "1                  Uma boa experiência.  229208487  ...  59092-100  Brasil\n",
              "2                    Otimo self service  679002332  ...  51021-250  Brasil\n",
              "3  O sorvete mais tradicional do estado  355671519  ...             Brasil\n",
              "4                     Melhor hamburger!  268741921  ...  01414-002  Brasil\n",
              "\n",
              "[5 rows x 21 columns]"
            ]
          },
          "metadata": {
            "tags": []
          },
          "execution_count": 64
        }
      ]
    },
    {
      "cell_type": "markdown",
      "metadata": {
        "id": "vUWgjJXpikNY"
      },
      "source": [
        "# Obter Comentarios\n"
      ]
    },
    {
      "cell_type": "code",
      "metadata": {
        "id": "7TsQ7ozWi2fa"
      },
      "source": [
        "# listagens de comentarios\n",
        "comments_blob = []\n",
        "\n",
        "#Obter lista dos comentários\n",
        "comentarios = data.reviewBody\n",
        "\n",
        "# Iteração em cada comentário\n",
        "for comentario in comentarios:\n",
        "  # Obter sentenças tratando emojis\n",
        "  aux = TextBlob(str(comentario).encode('utf-16', 'surrogatepass').decode('utf-16'))\n",
        "  comments_blob.append(aux)"
      ],
      "execution_count": null,
      "outputs": []
    },
    {
      "cell_type": "markdown",
      "metadata": {
        "id": "Fc2lMU7xaFXE"
      },
      "source": [
        "#Obter sentenças"
      ]
    },
    {
      "cell_type": "code",
      "metadata": {
        "colab": {
          "base_uri": "https://localhost:8080/"
        },
        "id": "opRa0BYkQvjs",
        "outputId": "952968d6-3393-4fc3-890c-d95c427b15d9"
      },
      "source": [
        "# criar uma lista para  salvar sentenças //salvar os blobs//\n",
        "comentario_blob = []\n",
        "sentences_pt = []\n",
        "\n",
        "# Iteração em cada review\n",
        "for aux in comments_blob:\n",
        "  for sentence in aux.sentences:\n",
        "    # elimina sentenças irrelevantes\n",
        "    if sentence != \"!\" and sentence != \".\" and sentence != \"..\" and sentence != \"rs\" and sentence != \"Aff.\" :\n",
        "      comentario_blob.append(sentence)\n",
        "      sentences_pt.append(sentence)\n",
        "\n",
        "comentario_blob[:10]\n"
      ],
      "execution_count": null,
      "outputs": [
        {
          "output_type": "execute_result",
          "data": {
            "text/plain": [
              "[Sentence(\"Comida maravilhosa, lugar do verdadeiro chiclete de camarão.\"),\n",
              " Sentence(\"O garçom Éric Lima nos atendeu muito bem, pretendemos voltar assim que possível.\"),\n",
              " Sentence(\"Comida boa, drinks legais e um ambiente bem aconchegante.\"),\n",
              " Sentence(\"Provamos muitas coisas e tudo nos agradou.\"),\n",
              " Sentence(\"Principalmente um pato servido em um dos pratos da casa, sensacional!\"),\n",
              " Sentence(\"Excelente pra ir com a família!\"),\n",
              " Sentence(\"Ótima Comida, ambiente agradável, bom atendimento e estacionamento.\"),\n",
              " Sentence(\"Vale a pena conhecer\"),\n",
              " Sentence(\"Tomo sorvete na Visabor faz mais de 30 anos.\"),\n",
              " Sentence(\"Sabores de frutas ou artificiais.\")]"
            ]
          },
          "metadata": {
            "tags": []
          },
          "execution_count": 8
        }
      ]
    },
    {
      "cell_type": "markdown",
      "metadata": {
        "id": "aUsUUofkp6jd"
      },
      "source": [
        "#Preparação de Comentários"
      ]
    },
    {
      "cell_type": "markdown",
      "metadata": {
        "id": "qEOoCP_9rSjk"
      },
      "source": [
        "Montar drive."
      ]
    },
    {
      "cell_type": "code",
      "metadata": {
        "id": "JnDYRXkhrVxk",
        "colab": {
          "base_uri": "https://localhost:8080/"
        },
        "outputId": "a133d5db-1759-4cf4-cbbd-0b6226525fc8"
      },
      "source": [
        "drive.mount('/content/drive/', force_remount='true')"
      ],
      "execution_count": null,
      "outputs": [
        {
          "output_type": "stream",
          "text": [
            "Mounted at /content/drive/\n"
          ],
          "name": "stdout"
        }
      ]
    },
    {
      "cell_type": "markdown",
      "metadata": {
        "id": "r86-owtv2-kn"
      },
      "source": [
        "Abrir documento criado para receber comentários. "
      ]
    },
    {
      "cell_type": "code",
      "metadata": {
        "id": "ly4TDcaop_Us",
        "colab": {
          "base_uri": "https://localhost:8080/"
        },
        "outputId": "41480501-7446-4be6-dac1-c2e86a7ceae5"
      },
      "source": [
        "!ls -la 'drive/My Drive/sentiment_analysis_project/'\n",
        "\n",
        "drive_file = \"drive/My Drive/sentiment_analysis_project/translate.csv\" \n",
        "file = open(drive_file,'r')\n",
        "\n",
        "data_translate = pd.read_csv(file)"
      ],
      "execution_count": null,
      "outputs": [
        {
          "output_type": "stream",
          "text": [
            "total 76602\n",
            "-rw------- 1 root root    16570 Nov 20 15:07 ground_truth.csv\n",
            "-rw------- 1 root root      151 Nov 21 14:57 ground_truth.gsheet\n",
            "-rw------- 1 root root 26857618 Nov 11 02:52 translate.csv\n",
            "-rw------- 1 root root 51564867 Nov 14 19:48 translate_us.csv\n"
          ],
          "name": "stdout"
        }
      ]
    },
    {
      "cell_type": "markdown",
      "metadata": {
        "id": "jHtOj2TsehL-"
      },
      "source": [
        "Iterar sobre cada comentário e adicionar ao arquivo a coluna 'review_us' com valor 'EMPTY'."
      ]
    },
    {
      "cell_type": "code",
      "metadata": {
        "id": "ZvJQVxPqeylv"
      },
      "source": [
        "# Iteração em cada review\n",
        "for cmt in comentarios:\n",
        "  try:\n",
        "    #Obter sentenças tratando emojis\n",
        "    comment_aux = str(cmt).encode('utf-16', 'surrogatepass').decode('utf-16')\n",
        "    #cria objeto para adicionar ao dataframe\n",
        "    obj_aux = { 'review': comment_aux, 'review_us': 'EMPTY' }\n",
        "    # adiciona ao dataframe\n",
        "    data_translate = data_translate.append(obj_aux, ignore_index=True)\n",
        "  except:\n",
        "    print(\"exception: \" + cmt)\n"
      ],
      "execution_count": null,
      "outputs": []
    },
    {
      "cell_type": "markdown",
      "metadata": {
        "id": "gAFR4kr2fAF8"
      },
      "source": [
        "Salvar arquivo"
      ]
    },
    {
      "cell_type": "code",
      "metadata": {
        "id": "qLlkfW4jgIQ7"
      },
      "source": [
        "# Salva arquivo no google Drive\n",
        "data_translate.to_csv(drive_file, index=False, header=True)    \n",
        "data_translate"
      ],
      "execution_count": null,
      "outputs": []
    },
    {
      "cell_type": "markdown",
      "metadata": {
        "id": "-Kj9cclkF4tH"
      },
      "source": [
        "#Traduzir comentários\n",
        "\n",
        "Realizamos a cópia do arquivo preparado e renomeamos para o arquivo 'translate_us' que recebeu a tradução de cada comentário"
      ]
    },
    {
      "cell_type": "markdown",
      "metadata": {
        "id": "CmX3a_aZg3Ao"
      },
      "source": [
        "Montar drive."
      ]
    },
    {
      "cell_type": "code",
      "metadata": {
        "colab": {
          "base_uri": "https://localhost:8080/"
        },
        "id": "_6QEc8mIhO7n",
        "outputId": "dac897d1-c1cc-4332-c7bb-d43ee67d8937"
      },
      "source": [
        "drive.mount('/content/drive/', force_remount='true')"
      ],
      "execution_count": null,
      "outputs": [
        {
          "output_type": "stream",
          "text": [
            "Mounted at /content/drive/\n"
          ],
          "name": "stdout"
        }
      ]
    },
    {
      "cell_type": "markdown",
      "metadata": {
        "id": "hlM5iINygqlG"
      },
      "source": [
        "Abrir arquivo"
      ]
    },
    {
      "cell_type": "code",
      "metadata": {
        "id": "RahFr2BzhQpG"
      },
      "source": [
        "drive_file = \"drive/My Drive/sentiment_analysis_project/translate_us.csv\" \n",
        "data_translate = pd.read_csv(drive_file)"
      ],
      "execution_count": null,
      "outputs": []
    },
    {
      "cell_type": "markdown",
      "metadata": {
        "id": "6nWvLX49gvBI"
      },
      "source": [
        "Selecionar apenas comentários que ainda não foram traduzidos"
      ]
    },
    {
      "cell_type": "code",
      "metadata": {
        "id": "aioVVlMnhvoC"
      },
      "source": [
        "dt = data_translate.loc[data_translate['review_us'] == 'EMPTY']\n",
        "\n",
        "#Informação sobre quantos faltam para finalizar tradução\n",
        "print(dt.describe())"
      ],
      "execution_count": null,
      "outputs": []
    },
    {
      "cell_type": "markdown",
      "metadata": {
        "id": "E7_ICscSGBOc"
      },
      "source": [
        "Traduzir comentários para Inglês (US) informando quantas iterações deseja realizar."
      ]
    },
    {
      "cell_type": "markdown",
      "metadata": {
        "id": "D0ce6UAUifIj"
      },
      "source": [
        "Quantidade/Minutos\n",
        "\n",
        "---\n",
        ">  500 / 4,5\n",
        "\n",
        "> 1000 / 8,9   \n",
        "\n",
        "> 1500 / 13,51\n",
        "\n",
        "> 3000 / 26,86\n",
        "\n",
        "> 5000 / 44,73\n",
        "\n"
      ]
    },
    {
      "cell_type": "code",
      "metadata": {
        "id": "-VI627JfA8ar"
      },
      "source": [
        "#@title Iterações\n",
        "Quantidade =  500#@param {type:\"integer\"}\n",
        "#Obter lista dos comentários\n",
        "comentarios = dt.review"
      ],
      "execution_count": null,
      "outputs": []
    },
    {
      "cell_type": "markdown",
      "metadata": {
        "id": "d34zxp7DkcNz"
      },
      "source": [
        "Iterar quantidade informada e executar tradução a cada 0,5 segundos"
      ]
    },
    {
      "cell_type": "code",
      "metadata": {
        "id": "T8reEJzrkRje"
      },
      "source": [
        "for comentario in comentarios[:Quantidade]:\n",
        "  try:\n",
        "    time.sleep(0.5)\n",
        "    # Obter sentenças tratando emojis\n",
        "    txt_blob_aux = TextBlob(str(comentario).encode('utf-16', 'surrogatepass').decode('utf-16'))\n",
        "    aux_us = str(txt_blob_aux.translate(to='us'))\n",
        "    print(aux_us)\n",
        "\n",
        "    # Atualiza dataframe na exata posição do comentário em português \n",
        "    data_translate.at[(data_translate['review'] == comentario), 'review_us'] = aux_us\n",
        "  except:\n",
        "    print(\"EXCEPTION: \" + str(txt_blob_aux))\n",
        "    # Detecta se a exceção ocorreu devido a linguagem do comentário já ser inglês\n",
        "    if txt_blob_aux.detect_language() == 'en':\n",
        "      data_translate.at[(data_translate['review'] == comentario), 'review_us'] = str(txt_blob_aux)\n",
        "      print(\"Up-to-date: \" + str(txt_blob_aux))\n",
        "      \n",
        "\n",
        "\n",
        "# Salva arquivo no google Drive ao finalizar iterações\n",
        "data_translate.to_csv(drive_file, index=False, header=True)\n",
        "\n",
        "data_translate"
      ],
      "execution_count": null,
      "outputs": []
    },
    {
      "cell_type": "markdown",
      "metadata": {
        "id": "DJZfCSOMtPY1"
      },
      "source": [
        "#Preparar dataset principal\n",
        "Adicionar tradução, dados de classificação e subjetividade.\n"
      ]
    },
    {
      "cell_type": "markdown",
      "metadata": {
        "id": "XeA5nmNmtuiz"
      },
      "source": [
        "Montar drive"
      ]
    },
    {
      "cell_type": "code",
      "metadata": {
        "id": "itBDwPqhwn4U"
      },
      "source": [
        "drive.mount('/content/drive/', force_remount='true')"
      ],
      "execution_count": null,
      "outputs": []
    },
    {
      "cell_type": "markdown",
      "metadata": {
        "id": "x7SMHZj8w1qr"
      },
      "source": [
        "Abrir arquivo"
      ]
    },
    {
      "cell_type": "code",
      "metadata": {
        "id": "iQIKH9Fpw3hT"
      },
      "source": [
        "file_translated = \"drive/My Drive/sentiment_analysis_project/translate_us.csv\" \n",
        "data_translate = pd.read_csv(file_translated)"
      ],
      "execution_count": null,
      "outputs": []
    },
    {
      "cell_type": "markdown",
      "metadata": {
        "id": "t2IxaN4n8FOt"
      },
      "source": [
        "Preparar novas colunas"
      ]
    },
    {
      "cell_type": "code",
      "metadata": {
        "id": "1ArXhIYnz38q"
      },
      "source": [
        "array_translated = []\n",
        "array_subjectivity = []\n",
        "array_polarity = []\n",
        "\n",
        "# Declarado na célula 'Baixar dataset'\n",
        "for index, row in data.iterrows():\n",
        "  # Obter review traduzido\n",
        "  str_us = str(data_translate.iloc[index]['review_us']).encode('utf-16', 'surrogatepass').decode('utf-16')\n",
        "  # Obter textblob para pegar informações de subjetividade e polaridade\n",
        "  aux = TextBlob(str_us)\n",
        "\n",
        "  array_translated.append(str_us)\n",
        "  array_subjectivity.append(aux.sentiment.subjectivity)\n",
        "  array_polarity.append(aux.sentiment.polarity)\n"
      ],
      "execution_count": null,
      "outputs": []
    },
    {
      "cell_type": "markdown",
      "metadata": {
        "id": "P-DCih1WxiUL"
      },
      "source": [
        "Adicionar colunas\n",
        "\n",
        "\n",
        "1.   Texto traduzido = 'reviewTextBlob'\n",
        "2.   Subjetividade = 'subjectivity'\n",
        "1.   Polaridade = 'polarity'\n",
        "\n",
        "\n",
        "\n",
        "\n"
      ]
    },
    {
      "cell_type": "code",
      "metadata": {
        "id": "5sj4mipT8LvR",
        "colab": {
          "base_uri": "https://localhost:8080/",
          "height": 932
        },
        "outputId": "981a3c8d-7812-4d9e-e361-cf4cb89aff28"
      },
      "source": [
        "data.insert(0, 'reviewTextBlob', array_translated)\n",
        "data.insert(0, 'subjectivity', array_subjectivity)\n",
        "data.insert(0, 'polarity', array_polarity)\n",
        "\n",
        "data"
      ],
      "execution_count": null,
      "outputs": [
        {
          "output_type": "execute_result",
          "data": {
            "text/html": [
              "<div>\n",
              "<style scoped>\n",
              "    .dataframe tbody tr th:only-of-type {\n",
              "        vertical-align: middle;\n",
              "    }\n",
              "\n",
              "    .dataframe tbody tr th {\n",
              "        vertical-align: top;\n",
              "    }\n",
              "\n",
              "    .dataframe thead th {\n",
              "        text-align: right;\n",
              "    }\n",
              "</style>\n",
              "<table border=\"1\" class=\"dataframe\">\n",
              "  <thead>\n",
              "    <tr style=\"text-align: right;\">\n",
              "      <th></th>\n",
              "      <th>polarity</th>\n",
              "      <th>subjectivity</th>\n",
              "      <th>reviewTextBlob</th>\n",
              "      <th>title</th>\n",
              "      <th>reviewId</th>\n",
              "      <th>restaurantId</th>\n",
              "      <th>author</th>\n",
              "      <th>reviewBody</th>\n",
              "      <th>language</th>\n",
              "      <th>mobileDevice</th>\n",
              "      <th>userLocation</th>\n",
              "      <th>publicationDate</th>\n",
              "      <th>visitDate</th>\n",
              "      <th>ratingValue</th>\n",
              "      <th>name</th>\n",
              "      <th>website</th>\n",
              "      <th>email</th>\n",
              "      <th>phoneNumber</th>\n",
              "      <th>averageRating</th>\n",
              "      <th>streetAddress</th>\n",
              "      <th>addressLocality</th>\n",
              "      <th>addressRegion</th>\n",
              "      <th>postalCode</th>\n",
              "      <th>country</th>\n",
              "    </tr>\n",
              "  </thead>\n",
              "  <tbody>\n",
              "    <tr>\n",
              "      <th>0</th>\n",
              "      <td>0.350000</td>\n",
              "      <td>0.650000</td>\n",
              "      <td>Wonderful food, the place for real shrimp gum....</td>\n",
              "      <td>Jantar</td>\n",
              "      <td>692856288</td>\n",
              "      <td>2344932</td>\n",
              "      <td>larinhavercosa222</td>\n",
              "      <td>Comida maravilhosa, lugar do verdadeiro chicle...</td>\n",
              "      <td>pt</td>\n",
              "      <td>True</td>\n",
              "      <td>São Carlos, SP</td>\n",
              "      <td>26/07/2019</td>\n",
              "      <td>07/2019</td>\n",
              "      <td>5</td>\n",
              "      <td>Imperador dos Camarões</td>\n",
              "      <td>http://www.imperadordoscamaroes.com.br</td>\n",
              "      <td>contato@imperadordoscamaroes.com.br</td>\n",
              "      <td>+55 82 3231-4134</td>\n",
              "      <td>4.5</td>\n",
              "      <td>Avenida Doutor Antônio Gouveia</td>\n",
              "      <td></td>\n",
              "      <td>Alagoas</td>\n",
              "      <td>57030-170</td>\n",
              "      <td>Brasil</td>\n",
              "    </tr>\n",
              "    <tr>\n",
              "      <th>1</th>\n",
              "      <td>0.410476</td>\n",
              "      <td>0.820238</td>\n",
              "      <td>Good food, nice drinks and a very cozy atmosph...</td>\n",
              "      <td>Uma boa experiência.</td>\n",
              "      <td>229208487</td>\n",
              "      <td>3720906</td>\n",
              "      <td>Pano P</td>\n",
              "      <td>Comida boa, drinks legais e um ambiente bem ac...</td>\n",
              "      <td>pt</td>\n",
              "      <td>True</td>\n",
              "      <td>Manaus, AM</td>\n",
              "      <td>16/09/2014</td>\n",
              "      <td>None</td>\n",
              "      <td>4</td>\n",
              "      <td>Guacamole Natal</td>\n",
              "      <td>http://www.facebook.com/GuacamoleNatal</td>\n",
              "      <td>guacamolenatal@gmail.com</td>\n",
              "      <td>+55 84 3219-3646</td>\n",
              "      <td>4.5</td>\n",
              "      <td>Avenida Praia de Ponta Negra 9068 Ponta Negra</td>\n",
              "      <td></td>\n",
              "      <td>Rio Grande do Norte</td>\n",
              "      <td>59092-100</td>\n",
              "      <td>Brasil</td>\n",
              "    </tr>\n",
              "    <tr>\n",
              "      <th>2</th>\n",
              "      <td>0.706667</td>\n",
              "      <td>0.683333</td>\n",
              "      <td>Excellent to go with the family! Great food, p...</td>\n",
              "      <td>Otimo self service</td>\n",
              "      <td>679002332</td>\n",
              "      <td>2248105</td>\n",
              "      <td>Magma100</td>\n",
              "      <td>Excelente pra ir com a família! Ótima Comida, ...</td>\n",
              "      <td>pt</td>\n",
              "      <td>True</td>\n",
              "      <td>Goiânia, GO</td>\n",
              "      <td>04/06/2019</td>\n",
              "      <td>07/2018</td>\n",
              "      <td>4</td>\n",
              "      <td>Chica Pitanga</td>\n",
              "      <td>http://www.chicapitanga.com.br</td>\n",
              "      <td>chicapitanga@chicapitanga.com.br</td>\n",
              "      <td>+55 81 3334-8260</td>\n",
              "      <td>4.5</td>\n",
              "      <td>Rua Petrolina 19</td>\n",
              "      <td>Recife</td>\n",
              "      <td>Pernambuco</td>\n",
              "      <td>51021-250</td>\n",
              "      <td>Brasil</td>\n",
              "    </tr>\n",
              "    <tr>\n",
              "      <th>3</th>\n",
              "      <td>0.103333</td>\n",
              "      <td>0.712381</td>\n",
              "      <td>I have had ice cream at Visabor for over 30 ye...</td>\n",
              "      <td>O sorvete mais tradicional do estado</td>\n",
              "      <td>355671519</td>\n",
              "      <td>8168302</td>\n",
              "      <td>Yurie M</td>\n",
              "      <td>Tomo sorvete na Visabor faz mais de 30 anos. S...</td>\n",
              "      <td>pt</td>\n",
              "      <td>False</td>\n",
              "      <td>Aracaju, SE</td>\n",
              "      <td>15/03/2016</td>\n",
              "      <td>01/2016</td>\n",
              "      <td>5</td>\n",
              "      <td>Sorvetes Vi Sabor</td>\n",
              "      <td>None</td>\n",
              "      <td>None</td>\n",
              "      <td>None</td>\n",
              "      <td>4.0</td>\n",
              "      <td>Avenida Francisco Porto 59 Grageru</td>\n",
              "      <td>Aracaju</td>\n",
              "      <td>Sergipe</td>\n",
              "      <td></td>\n",
              "      <td>Brasil</td>\n",
              "    </tr>\n",
              "    <tr>\n",
              "      <th>4</th>\n",
              "      <td>0.575000</td>\n",
              "      <td>0.608333</td>\n",
              "      <td>The best hamburger I've ever eaten! Excellent ...</td>\n",
              "      <td>Melhor hamburger!</td>\n",
              "      <td>268741921</td>\n",
              "      <td>5395141</td>\n",
              "      <td>Debora_C85</td>\n",
              "      <td>O melhor hamburger que já comi! Excelente aten...</td>\n",
              "      <td>pt</td>\n",
              "      <td>False</td>\n",
              "      <td>Rio de Janeiro, RJ</td>\n",
              "      <td>28/04/2015</td>\n",
              "      <td>04/2015</td>\n",
              "      <td>5</td>\n",
              "      <td>Z Deli Sandwich Shop</td>\n",
              "      <td>http://www.facebook.com/zdelisandwichshop/</td>\n",
              "      <td>None</td>\n",
              "      <td>551130830021</td>\n",
              "      <td>4.5</td>\n",
              "      <td>Rua Haddock Lobo 1386 Jardins</td>\n",
              "      <td>São Paulo</td>\n",
              "      <td>Estado de São Paulo</td>\n",
              "      <td>01414-002</td>\n",
              "      <td>Brasil</td>\n",
              "    </tr>\n",
              "    <tr>\n",
              "      <th>...</th>\n",
              "      <td>...</td>\n",
              "      <td>...</td>\n",
              "      <td>...</td>\n",
              "      <td>...</td>\n",
              "      <td>...</td>\n",
              "      <td>...</td>\n",
              "      <td>...</td>\n",
              "      <td>...</td>\n",
              "      <td>...</td>\n",
              "      <td>...</td>\n",
              "      <td>...</td>\n",
              "      <td>...</td>\n",
              "      <td>...</td>\n",
              "      <td>...</td>\n",
              "      <td>...</td>\n",
              "      <td>...</td>\n",
              "      <td>...</td>\n",
              "      <td>...</td>\n",
              "      <td>...</td>\n",
              "      <td>...</td>\n",
              "      <td>...</td>\n",
              "      <td>...</td>\n",
              "      <td>...</td>\n",
              "      <td>...</td>\n",
              "    </tr>\n",
              "    <tr>\n",
              "      <th>99995</th>\n",
              "      <td>0.018333</td>\n",
              "      <td>0.328333</td>\n",
              "      <td>Not yet officially opened, it is serving in so...</td>\n",
              "      <td>Nova opção no Paseo!!!</td>\n",
              "      <td>672210394</td>\n",
              "      <td>17424548</td>\n",
              "      <td>Fabiano B</td>\n",
              "      <td>Ainda não inaugurado oficialmente, está atende...</td>\n",
              "      <td>pt</td>\n",
              "      <td>True</td>\n",
              "      <td>Porto Alegre, RS</td>\n",
              "      <td>07/05/2019</td>\n",
              "      <td>05/2019</td>\n",
              "      <td>5</td>\n",
              "      <td>Boteco Maestro</td>\n",
              "      <td>http://www.facebook.com/botecomaestro</td>\n",
              "      <td>None</td>\n",
              "      <td>+55 51 99353-6602</td>\n",
              "      <td>4.0</td>\n",
              "      <td>Avenida Wenceslau Escobar 1823</td>\n",
              "      <td>Porto Alegre</td>\n",
              "      <td>Rio Grande do Sul</td>\n",
              "      <td>91900-000</td>\n",
              "      <td>Brasil</td>\n",
              "    </tr>\n",
              "    <tr>\n",
              "      <th>99996</th>\n",
              "      <td>0.227083</td>\n",
              "      <td>0.533333</td>\n",
              "      <td>Good service, beautiful place, very tasty food...</td>\n",
              "      <td>Bom</td>\n",
              "      <td>380904400</td>\n",
              "      <td>2440184</td>\n",
              "      <td>Chris L</td>\n",
              "      <td>Bom atendimento, lugar bonito, comida muito go...</td>\n",
              "      <td>pt</td>\n",
              "      <td>True</td>\n",
              "      <td>Cork, Irlanda</td>\n",
              "      <td>08/06/2016</td>\n",
              "      <td>01/2016</td>\n",
              "      <td>4</td>\n",
              "      <td>Casa do Marquês</td>\n",
              "      <td>http://galeteriacasadomarques.com.br/</td>\n",
              "      <td>galeteriacasadomarques@galeteriacasadomarques....</td>\n",
              "      <td>+55 51 3343-4303</td>\n",
              "      <td>4.5</td>\n",
              "      <td>Rua Marques do Pombal, 1814 Higienópolis</td>\n",
              "      <td>Porto Alegre</td>\n",
              "      <td>Rio Grande do Sul</td>\n",
              "      <td>90540-000</td>\n",
              "      <td>Brasil</td>\n",
              "    </tr>\n",
              "    <tr>\n",
              "      <th>99997</th>\n",
              "      <td>0.048661</td>\n",
              "      <td>0.525446</td>\n",
              "      <td>Rio Scenarium is one of the most famous ballad...</td>\n",
              "      <td>Bom bar</td>\n",
              "      <td>186111858</td>\n",
              "      <td>2392996</td>\n",
              "      <td>Guilherme P</td>\n",
              "      <td>O Rio Scenarium é uma das baladas mais famosas...</td>\n",
              "      <td>pt</td>\n",
              "      <td>False</td>\n",
              "      <td>São Paulo, SP</td>\n",
              "      <td>27/11/2013</td>\n",
              "      <td>11/2013</td>\n",
              "      <td>4</td>\n",
              "      <td>Rio Scenarium</td>\n",
              "      <td>http://www.rioscenarium.art.br</td>\n",
              "      <td>None</td>\n",
              "      <td>+55 21-3147-9000</td>\n",
              "      <td>4.5</td>\n",
              "      <td>Rua do Lavradio 20 Centro</td>\n",
              "      <td>Rio de Janeiro</td>\n",
              "      <td>Estado do Rio de Janeiro</td>\n",
              "      <td>20230-070</td>\n",
              "      <td>Brasil</td>\n",
              "    </tr>\n",
              "    <tr>\n",
              "      <th>99998</th>\n",
              "      <td>0.002143</td>\n",
              "      <td>0.569143</td>\n",
              "      <td>I went by indication and with good expectation...</td>\n",
              "      <td>Me senti enganada...</td>\n",
              "      <td>152745909</td>\n",
              "      <td>1062290</td>\n",
              "      <td>LisianeCohem</td>\n",
              "      <td>Fui por indicação e com boa expectativa!\\n116,...</td>\n",
              "      <td>pt</td>\n",
              "      <td>True</td>\n",
              "      <td>Porto Alegre, RS</td>\n",
              "      <td>21/02/2013</td>\n",
              "      <td>None</td>\n",
              "      <td>2</td>\n",
              "      <td>Celeiro</td>\n",
              "      <td>http://www.celeiroculinaria.com.br</td>\n",
              "      <td>celeiro@celeiroculinaria.com.br</td>\n",
              "      <td>55 21 2274 7843</td>\n",
              "      <td>3.5</td>\n",
              "      <td>Rua Dias Ferreira 199</td>\n",
              "      <td>Rio de Janeiro</td>\n",
              "      <td>Estado do Rio de Janeiro</td>\n",
              "      <td>22431-050</td>\n",
              "      <td>Brasil</td>\n",
              "    </tr>\n",
              "    <tr>\n",
              "      <th>99999</th>\n",
              "      <td>0.766667</td>\n",
              "      <td>0.893333</td>\n",
              "      <td>Fantastic experience with delicious food and e...</td>\n",
              "      <td>Restaurante excelente</td>\n",
              "      <td>649755498</td>\n",
              "      <td>12433911</td>\n",
              "      <td>brunotulio</td>\n",
              "      <td>Experiência fantástica com comida deliciosa e ...</td>\n",
              "      <td>pt</td>\n",
              "      <td>True</td>\n",
              "      <td>Manaus, AM</td>\n",
              "      <td>02/02/2019</td>\n",
              "      <td>02/2019</td>\n",
              "      <td>5</td>\n",
              "      <td>Coco Bambu Manaus</td>\n",
              "      <td>http://www.facebook.com/cocobambumanausoficial/</td>\n",
              "      <td>rh.manaus@cocobambu.com</td>\n",
              "      <td>+55 92 3667-7430</td>\n",
              "      <td>5.0</td>\n",
              "      <td>Avenida Coronel Teixeira, 5705 Ponta Negra, Sh...</td>\n",
              "      <td>Manaus</td>\n",
              "      <td>Rio Amazonas</td>\n",
              "      <td>69037-000</td>\n",
              "      <td>Brasil</td>\n",
              "    </tr>\n",
              "  </tbody>\n",
              "</table>\n",
              "<p>100000 rows × 24 columns</p>\n",
              "</div>"
            ],
            "text/plain": [
              "       polarity  subjectivity  ... postalCode country\n",
              "0      0.350000      0.650000  ...  57030-170  Brasil\n",
              "1      0.410476      0.820238  ...  59092-100  Brasil\n",
              "2      0.706667      0.683333  ...  51021-250  Brasil\n",
              "3      0.103333      0.712381  ...             Brasil\n",
              "4      0.575000      0.608333  ...  01414-002  Brasil\n",
              "...         ...           ...  ...        ...     ...\n",
              "99995  0.018333      0.328333  ...  91900-000  Brasil\n",
              "99996  0.227083      0.533333  ...  90540-000  Brasil\n",
              "99997  0.048661      0.525446  ...  20230-070  Brasil\n",
              "99998  0.002143      0.569143  ...  22431-050  Brasil\n",
              "99999  0.766667      0.893333  ...  69037-000  Brasil\n",
              "\n",
              "[100000 rows x 24 columns]"
            ]
          },
          "metadata": {
            "tags": []
          },
          "execution_count": 65
        }
      ]
    },
    {
      "cell_type": "markdown",
      "metadata": {
        "id": "hD3E0nm-822W"
      },
      "source": [
        "Salvar arquivo"
      ]
    },
    {
      "cell_type": "code",
      "metadata": {
        "id": "jF8Au0og7-ER"
      },
      "source": [
        "data.to_csv('drive/My Drive/sentiment_analysis_project/main.csv', index=True, header=True, encoding='utf-16', errors='surrogatepass')"
      ],
      "execution_count": null,
      "outputs": []
    },
    {
      "cell_type": "markdown",
      "metadata": {
        "id": "mOfhQgpElsmT"
      },
      "source": [
        "#Gerar Senteças aleatórias"
      ]
    },
    {
      "cell_type": "markdown",
      "metadata": {
        "id": "8oQS2v_fob5h"
      },
      "source": [
        "Gerar 200 index aleatorios não repetidos"
      ]
    },
    {
      "cell_type": "code",
      "metadata": {
        "colab": {
          "base_uri": "https://localhost:8080/"
        },
        "id": "RP9frC2YojZM",
        "outputId": "1ae59d91-27ef-44d9-ded0-aaed346c24a6"
      },
      "source": [
        "indexRandom = []\n",
        "\n",
        "while len(indexRandom) < 200:\n",
        "  n = random.randint(0, len(comments_blob) -1)\n",
        "  if not n in indexRandom:\n",
        "    indexRandom.append(n)\n",
        "\n",
        "len(indexRandom)"
      ],
      "execution_count": null,
      "outputs": [
        {
          "output_type": "execute_result",
          "data": {
            "text/plain": [
              "200"
            ]
          },
          "metadata": {
            "tags": []
          },
          "execution_count": 9
        }
      ]
    },
    {
      "cell_type": "markdown",
      "metadata": {
        "id": "m5p3XJVHoorS"
      },
      "source": [
        "Gerar lista com as sentenças"
      ]
    },
    {
      "cell_type": "code",
      "metadata": {
        "id": "7pPp7B9-l4LS"
      },
      "source": [
        "list_sentences = [];\n",
        "\n",
        "for i in indexRandom:\n",
        "  if len(list_sentences) == 200:\n",
        "      break\n",
        "  # Descomentar somente se tiver sido feito a traducao no 'comments_blob_us'\n",
        "  # for sentence_br, sentence in zip(comments_blob_limite[i].sentences, comments_blob_us[i].sentences):\n",
        "  for sentence_br in comments_blob[i].sentences:\n",
        "    newSentence = {\n",
        "        \"sentence_pt\": str(sentence_br).encode('utf-16', 'surrogatepass').decode('utf-16'),\n",
        "        # \"sentence_us\": str(sentence).encode('utf-16', 'surrogatepass').decode('utf-16'),\n",
        "        # \"subjectivity\": sentence.sentiment.subjectivity,\n",
        "        # \"subjectivity\": sentence.sentiment.polarity,\n",
        "        # \"index_comment\": i\n",
        "    }\n",
        "    list_sentences.append(newSentence)\n",
        "    if len(list_sentences) == 200:\n",
        "      break\n",
        "\n",
        "len(list_sentences)"
      ],
      "execution_count": null,
      "outputs": []
    },
    {
      "cell_type": "markdown",
      "metadata": {
        "id": "UQr-oxK6q_4x"
      },
      "source": [
        "Salvar lista no formato **csv**"
      ]
    },
    {
      "cell_type": "code",
      "metadata": {
        "id": "VcmeCe-ZrFq7"
      },
      "source": [
        "#datasete sentences\n",
        "dtSentence = pd.DataFrame(list_sentences)\n",
        "\n",
        "dtSentence.head()\n",
        "\n",
        "dtSentence.to_csv(r'sentences.csv')"
      ],
      "execution_count": null,
      "outputs": []
    },
    {
      "cell_type": "markdown",
      "metadata": {
        "id": "2DS2BtOoJmmQ"
      },
      "source": [
        "# Ground Truth Comparativo\n",
        "\n"
      ]
    },
    {
      "cell_type": "code",
      "metadata": {
        "colab": {
          "base_uri": "https://localhost:8080/",
          "height": 204
        },
        "id": "1l_hBnZQJ5pX",
        "outputId": "dc46ed9d-3ebd-4980-fd52-2da2fcb1b25d"
      },
      "source": [
        "\n",
        "fonte = \"https://github.com/Andrewsas/trabalho-fundamentos-cid/blob/master/data/ground_truth.csv?raw=true\"\n",
        "\n",
        "dt_ground = pd.read_csv(fonte)\n",
        "dt_ground.columns = ['comments_pt', 'subjectivity', 'polarity']\n",
        "dt_ground.head()"
      ],
      "execution_count": null,
      "outputs": [
        {
          "output_type": "execute_result",
          "data": {
            "text/html": [
              "<div>\n",
              "<style scoped>\n",
              "    .dataframe tbody tr th:only-of-type {\n",
              "        vertical-align: middle;\n",
              "    }\n",
              "\n",
              "    .dataframe tbody tr th {\n",
              "        vertical-align: top;\n",
              "    }\n",
              "\n",
              "    .dataframe thead th {\n",
              "        text-align: right;\n",
              "    }\n",
              "</style>\n",
              "<table border=\"1\" class=\"dataframe\">\n",
              "  <thead>\n",
              "    <tr style=\"text-align: right;\">\n",
              "      <th></th>\n",
              "      <th>comments_pt</th>\n",
              "      <th>subjectivity</th>\n",
              "      <th>polarity</th>\n",
              "    </tr>\n",
              "  </thead>\n",
              "  <tbody>\n",
              "    <tr>\n",
              "      <th>0</th>\n",
              "      <td>comida excelente, atendimento bom é perto do c...</td>\n",
              "      <td>NaN</td>\n",
              "      <td>NaN</td>\n",
              "    </tr>\n",
              "    <tr>\n",
              "      <th>1</th>\n",
              "      <td>Parabens Camarada!</td>\n",
              "      <td>NaN</td>\n",
              "      <td>NaN</td>\n",
              "    </tr>\n",
              "    <tr>\n",
              "      <th>2</th>\n",
              "      <td>Restaurante fantástico, ambiente aconchegante,...</td>\n",
              "      <td>NaN</td>\n",
              "      <td>NaN</td>\n",
              "    </tr>\n",
              "    <tr>\n",
              "      <th>3</th>\n",
              "      <td>O restaurante possui um espaço kids muito segu...</td>\n",
              "      <td>NaN</td>\n",
              "      <td>NaN</td>\n",
              "    </tr>\n",
              "    <tr>\n",
              "      <th>4</th>\n",
              "      <td>O preço cobrado é justo.</td>\n",
              "      <td>NaN</td>\n",
              "      <td>NaN</td>\n",
              "    </tr>\n",
              "  </tbody>\n",
              "</table>\n",
              "</div>"
            ],
            "text/plain": [
              "                                         comments_pt  subjectivity  polarity\n",
              "0  comida excelente, atendimento bom é perto do c...           NaN       NaN\n",
              "1                                 Parabens Camarada!           NaN       NaN\n",
              "2  Restaurante fantástico, ambiente aconchegante,...           NaN       NaN\n",
              "3  O restaurante possui um espaço kids muito segu...           NaN       NaN\n",
              "4                           O preço cobrado é justo.           NaN       NaN"
            ]
          },
          "metadata": {
            "tags": []
          },
          "execution_count": 16
        }
      ]
    },
    {
      "cell_type": "markdown",
      "metadata": {
        "id": "3OJyf3IZLRMN"
      },
      "source": [
        "# Translate Google"
      ]
    },
    {
      "cell_type": "code",
      "metadata": {
        "id": "MRxTb4CyLTJD",
        "colab": {
          "base_uri": "https://localhost:8080/",
          "height": 111
        },
        "outputId": "902bba90-955f-4d60-af56-995c3b907dc5"
      },
      "source": [
        "translator = Translator()\n",
        "df = pd.DataFrame({'Spanish':['piso','cama']})\n",
        "df"
      ],
      "execution_count": null,
      "outputs": [
        {
          "output_type": "execute_result",
          "data": {
            "text/html": [
              "<div>\n",
              "<style scoped>\n",
              "    .dataframe tbody tr th:only-of-type {\n",
              "        vertical-align: middle;\n",
              "    }\n",
              "\n",
              "    .dataframe tbody tr th {\n",
              "        vertical-align: top;\n",
              "    }\n",
              "\n",
              "    .dataframe thead th {\n",
              "        text-align: right;\n",
              "    }\n",
              "</style>\n",
              "<table border=\"1\" class=\"dataframe\">\n",
              "  <thead>\n",
              "    <tr style=\"text-align: right;\">\n",
              "      <th></th>\n",
              "      <th>Spanish</th>\n",
              "    </tr>\n",
              "  </thead>\n",
              "  <tbody>\n",
              "    <tr>\n",
              "      <th>0</th>\n",
              "      <td>piso</td>\n",
              "    </tr>\n",
              "    <tr>\n",
              "      <th>1</th>\n",
              "      <td>cama</td>\n",
              "    </tr>\n",
              "  </tbody>\n",
              "</table>\n",
              "</div>"
            ],
            "text/plain": [
              "  Spanish\n",
              "0    piso\n",
              "1    cama"
            ]
          },
          "metadata": {
            "tags": []
          },
          "execution_count": 14
        }
      ]
    },
    {
      "cell_type": "code",
      "metadata": {
        "id": "B2Hbn2OKLU9z",
        "colab": {
          "base_uri": "https://localhost:8080/",
          "height": 204
        },
        "outputId": "7a101a8f-c4d5-47d1-b4e7-f38217f845f9"
      },
      "source": [
        "dt_ground['comments_us'] = dt_ground['comments_pt'].apply(translator.translate, src='auto', dest='en').apply(getattr, args=('text',))\n",
        "dt_ground.head()"
      ],
      "execution_count": null,
      "outputs": [
        {
          "output_type": "execute_result",
          "data": {
            "text/html": [
              "<div>\n",
              "<style scoped>\n",
              "    .dataframe tbody tr th:only-of-type {\n",
              "        vertical-align: middle;\n",
              "    }\n",
              "\n",
              "    .dataframe tbody tr th {\n",
              "        vertical-align: top;\n",
              "    }\n",
              "\n",
              "    .dataframe thead th {\n",
              "        text-align: right;\n",
              "    }\n",
              "</style>\n",
              "<table border=\"1\" class=\"dataframe\">\n",
              "  <thead>\n",
              "    <tr style=\"text-align: right;\">\n",
              "      <th></th>\n",
              "      <th>comments_pt</th>\n",
              "      <th>subjectivity</th>\n",
              "      <th>polarity</th>\n",
              "      <th>comments_us</th>\n",
              "    </tr>\n",
              "  </thead>\n",
              "  <tbody>\n",
              "    <tr>\n",
              "      <th>0</th>\n",
              "      <td>comida excelente, atendimento bom é perto do c...</td>\n",
              "      <td>NaN</td>\n",
              "      <td>NaN</td>\n",
              "      <td>Excellent food, good service is close to the a...</td>\n",
              "    </tr>\n",
              "    <tr>\n",
              "      <th>1</th>\n",
              "      <td>Parabens Camarada!</td>\n",
              "      <td>NaN</td>\n",
              "      <td>NaN</td>\n",
              "      <td>Congratulations, comrade!</td>\n",
              "    </tr>\n",
              "    <tr>\n",
              "      <th>2</th>\n",
              "      <td>Restaurante fantástico, ambiente aconchegante,...</td>\n",
              "      <td>NaN</td>\n",
              "      <td>NaN</td>\n",
              "      <td>Fantastic restaurant, Cozy atmosphere, Wonderf...</td>\n",
              "    </tr>\n",
              "    <tr>\n",
              "      <th>3</th>\n",
              "      <td>O restaurante possui um espaço kids muito segu...</td>\n",
              "      <td>NaN</td>\n",
              "      <td>NaN</td>\n",
              "      <td>The restaurant has a very safe and comfortable...</td>\n",
              "    </tr>\n",
              "    <tr>\n",
              "      <th>4</th>\n",
              "      <td>O preço cobrado é justo.</td>\n",
              "      <td>NaN</td>\n",
              "      <td>NaN</td>\n",
              "      <td>The price charged is fair.</td>\n",
              "    </tr>\n",
              "  </tbody>\n",
              "</table>\n",
              "</div>"
            ],
            "text/plain": [
              "                                         comments_pt  ...                                        comments_us\n",
              "0  comida excelente, atendimento bom é perto do c...  ...  Excellent food, good service is close to the a...\n",
              "1                                 Parabens Camarada!  ...                          Congratulations, comrade!\n",
              "2  Restaurante fantástico, ambiente aconchegante,...  ...  Fantastic restaurant, Cozy atmosphere, Wonderf...\n",
              "3  O restaurante possui um espaço kids muito segu...  ...  The restaurant has a very safe and comfortable...\n",
              "4                           O preço cobrado é justo.  ...                         The price charged is fair.\n",
              "\n",
              "[5 rows x 4 columns]"
            ]
          },
          "metadata": {
            "tags": []
          },
          "execution_count": 17
        }
      ]
    },
    {
      "cell_type": "code",
      "metadata": {
        "id": "qxfjX6O-LU8o"
      },
      "source": [
        ""
      ],
      "execution_count": null,
      "outputs": []
    },
    {
      "cell_type": "markdown",
      "metadata": {
        "id": "ywWRmV-rhy-R"
      },
      "source": [
        "# Cálculo da subjetividade"
      ]
    },
    {
      "cell_type": "code",
      "metadata": {
        "id": "Eya0aGF5ka6E"
      },
      "source": [
        "# coloquei para teste, uso as sentenças dos dez primeiros comentarios\n",
        "# O valor da subjetividade é um número real entre [0.0, 1.0], onde 0.0 o texto é indicado como muito objetivo e 1.0 o texto é indicado como muito subjetivo.\n",
        "for i in range(10):\n",
        "  for sentence_br, sentence in zip(comments_blob_limite[i].sentences, comments_blob_us[i].sentences):\n",
        "    print(sentence_br, ':', sentence.sentiment.subjectivity)"
      ],
      "execution_count": null,
      "outputs": []
    },
    {
      "cell_type": "markdown",
      "metadata": {
        "id": "QiBTiHyPj6Rb"
      },
      "source": [
        "# Cálculo da polaridade"
      ]
    },
    {
      "cell_type": "code",
      "metadata": {
        "id": "LPx4W9B5h0Xc"
      },
      "source": [
        "# coloquei para teste, uso as sentenças dos dez primeiros comentarios\n",
        "# O valor da polaridade é um número real entre os valores [-1.0, 1.0].\n",
        "for i in range(10):\n",
        "  for sentence_br, sentence in zip(comments_blob_limite[i].sentences, comments_blob_us[i].sentences):\n",
        "    print(sentence_br, ':', sentence.sentiment.polarity)"
      ],
      "execution_count": null,
      "outputs": []
    },
    {
      "cell_type": "markdown",
      "metadata": {
        "id": "h0TiTgXXl1iS"
      },
      "source": [
        "Obter dataset traduzido com textblob e gerar sentenças aleatórias para o ***ground-truth***/"
      ]
    },
    {
      "cell_type": "markdown",
      "metadata": {
        "id": "LMgfsvGXd-sj"
      },
      "source": [
        "#Analise Exploratória"
      ]
    },
    {
      "cell_type": "code",
      "metadata": {
        "id": "N3u3zUvxczpV",
        "colab": {
          "base_uri": "https://localhost:8080/"
        },
        "outputId": "d617ddcd-5ec3-44e1-898c-053e56196954"
      },
      "source": [
        "!git clone \"https://github.com/Andrewsas/trabalho-fundamentos-cid.git\""
      ],
      "execution_count": 3,
      "outputs": [
        {
          "output_type": "stream",
          "text": [
            "Cloning into 'trabalho-fundamentos-cid'...\n",
            "remote: Enumerating objects: 82, done.\u001b[K\n",
            "remote: Counting objects: 100% (82/82), done.\u001b[K\n",
            "remote: Compressing objects: 100% (63/63), done.\u001b[K\n",
            "remote: Total 82 (delta 22), reused 27 (delta 5), pack-reused 0\u001b[K\n",
            "Unpacking objects: 100% (82/82), done.\n"
          ],
          "name": "stdout"
        }
      ]
    },
    {
      "cell_type": "code",
      "metadata": {
        "id": "u1buG_1yczoZ",
        "colab": {
          "base_uri": "https://localhost:8080/"
        },
        "outputId": "ef8c6c5e-f4ba-4103-ca7c-3a519cc4a0ab"
      },
      "source": [
        "!unzip ./trabalho-fundamentos-cid/data/main.zip"
      ],
      "execution_count": 5,
      "outputs": [
        {
          "output_type": "stream",
          "text": [
            "Archive:  ./trabalho-fundamentos-cid/data/main.zip\n",
            "  inflating: main.csv                \n"
          ],
          "name": "stdout"
        }
      ]
    },
    {
      "cell_type": "code",
      "metadata": {
        "id": "PnVlmID4eNeR"
      },
      "source": [
        "dt_traduzido = pd.read_csv(\"./main.csv\", encoding = 'utf-16')\n"
      ],
      "execution_count": 6,
      "outputs": []
    },
    {
      "cell_type": "code",
      "metadata": {
        "id": "WUDMa1MLgDxk",
        "colab": {
          "base_uri": "https://localhost:8080/",
          "height": 581
        },
        "outputId": "02ed4389-e136-456d-bc15-41cd07ddcc90"
      },
      "source": [
        "dt_traduzido.head()"
      ],
      "execution_count": 7,
      "outputs": [
        {
          "output_type": "execute_result",
          "data": {
            "text/html": [
              "<div>\n",
              "<style scoped>\n",
              "    .dataframe tbody tr th:only-of-type {\n",
              "        vertical-align: middle;\n",
              "    }\n",
              "\n",
              "    .dataframe tbody tr th {\n",
              "        vertical-align: top;\n",
              "    }\n",
              "\n",
              "    .dataframe thead th {\n",
              "        text-align: right;\n",
              "    }\n",
              "</style>\n",
              "<table border=\"1\" class=\"dataframe\">\n",
              "  <thead>\n",
              "    <tr style=\"text-align: right;\">\n",
              "      <th></th>\n",
              "      <th>Unnamed: 0</th>\n",
              "      <th>polarity</th>\n",
              "      <th>subjectivity</th>\n",
              "      <th>reviewTextBlob</th>\n",
              "      <th>title</th>\n",
              "      <th>reviewId</th>\n",
              "      <th>restaurantId</th>\n",
              "      <th>author</th>\n",
              "      <th>reviewBody</th>\n",
              "      <th>language</th>\n",
              "      <th>mobileDevice</th>\n",
              "      <th>userLocation</th>\n",
              "      <th>publicationDate</th>\n",
              "      <th>visitDate</th>\n",
              "      <th>ratingValue</th>\n",
              "      <th>name</th>\n",
              "      <th>website</th>\n",
              "      <th>email</th>\n",
              "      <th>phoneNumber</th>\n",
              "      <th>averageRating</th>\n",
              "      <th>streetAddress</th>\n",
              "      <th>addressLocality</th>\n",
              "      <th>addressRegion</th>\n",
              "      <th>postalCode</th>\n",
              "      <th>country</th>\n",
              "    </tr>\n",
              "  </thead>\n",
              "  <tbody>\n",
              "    <tr>\n",
              "      <th>0</th>\n",
              "      <td>0</td>\n",
              "      <td>0.350000</td>\n",
              "      <td>0.650000</td>\n",
              "      <td>Wonderful food, the place for real shrimp gum....</td>\n",
              "      <td>Jantar</td>\n",
              "      <td>692856288</td>\n",
              "      <td>2344932.0</td>\n",
              "      <td>larinhavercosa222</td>\n",
              "      <td>Comida maravilhosa, lugar do verdadeiro chicle...</td>\n",
              "      <td>pt</td>\n",
              "      <td>True</td>\n",
              "      <td>São Carlos, SP</td>\n",
              "      <td>26/07/2019</td>\n",
              "      <td>07/2019</td>\n",
              "      <td>5</td>\n",
              "      <td>Imperador dos Camarões</td>\n",
              "      <td>http://www.imperadordoscamaroes.com.br</td>\n",
              "      <td>contato@imperadordoscamaroes.com.br</td>\n",
              "      <td>+55 82 3231-4134</td>\n",
              "      <td>4.5</td>\n",
              "      <td>Avenida Doutor Antônio Gouveia</td>\n",
              "      <td>NaN</td>\n",
              "      <td>Alagoas</td>\n",
              "      <td>57030-170</td>\n",
              "      <td>Brasil</td>\n",
              "    </tr>\n",
              "    <tr>\n",
              "      <th>1</th>\n",
              "      <td>1</td>\n",
              "      <td>0.410476</td>\n",
              "      <td>0.820238</td>\n",
              "      <td>Good food, nice drinks and a very cozy atmosph...</td>\n",
              "      <td>Uma boa experiência.</td>\n",
              "      <td>229208487</td>\n",
              "      <td>3720906.0</td>\n",
              "      <td>Pano P</td>\n",
              "      <td>Comida boa, drinks legais e um ambiente bem ac...</td>\n",
              "      <td>pt</td>\n",
              "      <td>True</td>\n",
              "      <td>Manaus, AM</td>\n",
              "      <td>16/09/2014</td>\n",
              "      <td>None</td>\n",
              "      <td>4</td>\n",
              "      <td>Guacamole Natal</td>\n",
              "      <td>http://www.facebook.com/GuacamoleNatal</td>\n",
              "      <td>guacamolenatal@gmail.com</td>\n",
              "      <td>+55 84 3219-3646</td>\n",
              "      <td>4.5</td>\n",
              "      <td>Avenida Praia de Ponta Negra 9068 Ponta Negra</td>\n",
              "      <td>NaN</td>\n",
              "      <td>Rio Grande do Norte</td>\n",
              "      <td>59092-100</td>\n",
              "      <td>Brasil</td>\n",
              "    </tr>\n",
              "    <tr>\n",
              "      <th>2</th>\n",
              "      <td>2</td>\n",
              "      <td>0.706667</td>\n",
              "      <td>0.683333</td>\n",
              "      <td>Excellent to go with the family! Great food, p...</td>\n",
              "      <td>Otimo self service</td>\n",
              "      <td>679002332</td>\n",
              "      <td>2248105.0</td>\n",
              "      <td>Magma100</td>\n",
              "      <td>Excelente pra ir com a família! Ótima Comida, ...</td>\n",
              "      <td>pt</td>\n",
              "      <td>True</td>\n",
              "      <td>Goiânia, GO</td>\n",
              "      <td>04/06/2019</td>\n",
              "      <td>07/2018</td>\n",
              "      <td>4</td>\n",
              "      <td>Chica Pitanga</td>\n",
              "      <td>http://www.chicapitanga.com.br</td>\n",
              "      <td>chicapitanga@chicapitanga.com.br</td>\n",
              "      <td>+55 81 3334-8260</td>\n",
              "      <td>4.5</td>\n",
              "      <td>Rua Petrolina 19</td>\n",
              "      <td>Recife</td>\n",
              "      <td>Pernambuco</td>\n",
              "      <td>51021-250</td>\n",
              "      <td>Brasil</td>\n",
              "    </tr>\n",
              "    <tr>\n",
              "      <th>3</th>\n",
              "      <td>3</td>\n",
              "      <td>0.103333</td>\n",
              "      <td>0.712381</td>\n",
              "      <td>I have had ice cream at Visabor for over 30 ye...</td>\n",
              "      <td>O sorvete mais tradicional do estado</td>\n",
              "      <td>355671519</td>\n",
              "      <td>8168302.0</td>\n",
              "      <td>Yurie M</td>\n",
              "      <td>Tomo sorvete na Visabor faz mais de 30 anos. S...</td>\n",
              "      <td>pt</td>\n",
              "      <td>False</td>\n",
              "      <td>Aracaju, SE</td>\n",
              "      <td>15/03/2016</td>\n",
              "      <td>01/2016</td>\n",
              "      <td>5</td>\n",
              "      <td>Sorvetes Vi Sabor</td>\n",
              "      <td>None</td>\n",
              "      <td>None</td>\n",
              "      <td>None</td>\n",
              "      <td>4.0</td>\n",
              "      <td>Avenida Francisco Porto 59 Grageru</td>\n",
              "      <td>Aracaju</td>\n",
              "      <td>Sergipe</td>\n",
              "      <td>NaN</td>\n",
              "      <td>Brasil</td>\n",
              "    </tr>\n",
              "    <tr>\n",
              "      <th>4</th>\n",
              "      <td>4</td>\n",
              "      <td>0.575000</td>\n",
              "      <td>0.608333</td>\n",
              "      <td>The best hamburger I've ever eaten! Excellent ...</td>\n",
              "      <td>Melhor hamburger!</td>\n",
              "      <td>268741921</td>\n",
              "      <td>5395141.0</td>\n",
              "      <td>Debora_C85</td>\n",
              "      <td>O melhor hamburger que já comi! Excelente aten...</td>\n",
              "      <td>pt</td>\n",
              "      <td>False</td>\n",
              "      <td>Rio de Janeiro, RJ</td>\n",
              "      <td>28/04/2015</td>\n",
              "      <td>04/2015</td>\n",
              "      <td>5</td>\n",
              "      <td>Z Deli Sandwich Shop</td>\n",
              "      <td>http://www.facebook.com/zdelisandwichshop/</td>\n",
              "      <td>None</td>\n",
              "      <td>551130830021</td>\n",
              "      <td>4.5</td>\n",
              "      <td>Rua Haddock Lobo 1386 Jardins</td>\n",
              "      <td>São Paulo</td>\n",
              "      <td>Estado de São Paulo</td>\n",
              "      <td>01414-002</td>\n",
              "      <td>Brasil</td>\n",
              "    </tr>\n",
              "  </tbody>\n",
              "</table>\n",
              "</div>"
            ],
            "text/plain": [
              "   Unnamed: 0  polarity  subjectivity  ...        addressRegion postalCode  country\n",
              "0           0  0.350000      0.650000  ...              Alagoas  57030-170   Brasil\n",
              "1           1  0.410476      0.820238  ...  Rio Grande do Norte  59092-100   Brasil\n",
              "2           2  0.706667      0.683333  ...           Pernambuco  51021-250   Brasil\n",
              "3           3  0.103333      0.712381  ...              Sergipe        NaN   Brasil\n",
              "4           4  0.575000      0.608333  ...  Estado de São Paulo  01414-002   Brasil\n",
              "\n",
              "[5 rows x 25 columns]"
            ]
          },
          "metadata": {
            "tags": []
          },
          "execution_count": 7
        }
      ]
    },
    {
      "cell_type": "code",
      "metadata": {
        "id": "3C9_DYZeolTQ"
      },
      "source": [
        "import matplotlib.pyplot as plt\n",
        "from matplotlib.pyplot import figure"
      ],
      "execution_count": 4,
      "outputs": []
    },
    {
      "cell_type": "code",
      "metadata": {
        "id": "Rx_FziGLlx7q",
        "colab": {
          "base_uri": "https://localhost:8080/",
          "height": 444
        },
        "outputId": "fbb94186-ad3d-4a54-ded3-157cdf8fcf67"
      },
      "source": [
        "# 5 restaurante mais avaliados\n",
        "\n",
        "figure(num=None, figsize=(14, 6), dpi=80)\n",
        "\n",
        "rowValues = dt_traduzido['name'].value_counts().sort_values(ascending=False)[:5].values\n",
        "colRestaurante = dt_traduzido['name'].value_counts().sort_values(ascending=False)[:5].index\n",
        "\n",
        "plt.bar(colRestaurante, rowValues, label=\"Qtd de Avaliações\")\n",
        "\n",
        "plt.legend()\n",
        "\n",
        "plt.xlabel('Quantidade de Avaliações')\n",
        "plt.ylabel('Restaurante')\n",
        "\n",
        "plt.title('Restaurantes mais avaliados')\n",
        "\n",
        "plt.show()"
      ],
      "execution_count": null,
      "outputs": [
        {
          "output_type": "display_data",
          "data": {
            "image/png": "[encoded data removed]",
            "text/plain": [
              "<Figure size 1120x480 with 1 Axes>"
            ]
          },
          "metadata": {
            "tags": [],
            "needs_background": "light"
          }
        }
      ]
    },
    {
      "cell_type": "code",
      "metadata": {
        "id": "E9aQso-egpW3",
        "colab": {
          "base_uri": "https://localhost:8080/"
        },
        "outputId": "26de2360-35d1-4478-8589-84160301330b"
      },
      "source": [
        "dt_traduzido['name'].value_counts().sort_values(ascending=False)[:5].values"
      ],
      "execution_count": null,
      "outputs": [
        {
          "output_type": "execute_result",
          "data": {
            "text/plain": [
              "array([1083, 1068, 1023,  699,  661])"
            ]
          },
          "metadata": {
            "tags": []
          },
          "execution_count": 44
        }
      ]
    },
    {
      "cell_type": "code",
      "metadata": {
        "id": "UuqQgrYGj_nl",
        "colab": {
          "base_uri": "https://localhost:8080/",
          "height": 444
        },
        "outputId": "5b982963-f77c-49bd-b321-1cba05130830"
      },
      "source": [
        "# 5 restaurante com maiores notas\n",
        "\n",
        "figure(num=None, figsize=(14, 6), dpi=80)\n",
        "\n",
        "rowValues = dt_traduzido.groupby(\"name\").mean()[\"ratingValue\"][:5].values\n",
        "colRestaurante = dt_traduzido.groupby(\"name\").mean()[\"ratingValue\"][:5].index\n",
        "\n",
        "plt.bar(colRestaurante, rowValues, label=\"Média de Notas\")\n",
        "\n",
        "plt.legend()\n",
        "\n",
        "plt.xlabel('Quantidade de Avaliações')\n",
        "plt.ylabel('Restaurante')\n",
        "\n",
        "plt.title('Restaurantes mais avaliados')\n",
        "\n",
        "plt.show()\n"
      ],
      "execution_count": null,
      "outputs": [
        {
          "output_type": "display_data",
          "data": {
            "image/png": "[encoded data removed]",
            "text/plain": [
              "<Figure size 1120x480 with 1 Axes>"
            ]
          },
          "metadata": {
            "tags": [],
            "needs_background": "light"
          }
        }
      ]
    },
    {
      "cell_type": "code",
      "metadata": {
        "colab": {
          "base_uri": "https://localhost:8080/",
          "height": 265
        },
        "id": "oW94yDBa_8Ad",
        "outputId": "ed346a46-e679-4fb0-a621-4631d4dcf803"
      },
      "source": [
        "# dt_traduzido.query(\"name == 'Coco Bambu Frutos do Mar'\")[\"ratingValue\"].describe()\n",
        "# dt_traduzido.query(\"name == '&EAT Restaurante'\")[\"ratingValue\"].plot.box(grid = True, figsize=(8,6))\n",
        "\n",
        "X = dt_traduzido.query(\"name == 'Coco Bambu Frutos do Mar'\")[\"ratingValue\"].values\n",
        "Y = dt_traduzido.query(\"name == 'Coco Bambu Frutos do Mar'\")[\"ratingValue\"].values\n",
        "plt.scatter(X,Y)\n",
        "plt.show()\n",
        "\n",
        "\n",
        "# dt_traduzido.groupby(\"name\").mean()[\"ratingValue\"][:5].index"
      ],
      "execution_count": 14,
      "outputs": [
        {
          "output_type": "display_data",
          "data": {
            "image/png": "[encoded data removed]",
            "text/plain": [
              "<Figure size 432x288 with 1 Axes>"
            ]
          },
          "metadata": {
            "tags": [],
            "needs_background": "light"
          }
        }
      ]
    },
    {
      "cell_type": "markdown",
      "metadata": {
        "id": "9HJDfPdH_iRM"
      },
      "source": [
        "## Quantidade de Avaliações por quarte de 2017 a 2020"
      ]
    },
    {
      "cell_type": "code",
      "metadata": {
        "id": "Yn07ixDUpawE"
      },
      "source": [
        "#comparação das avaliações do coco bambum por quarter nos ultimos anos\n",
        "\n",
        "serie_coco =  dt_traduzido.query(\"name == 'Coco Bambu Frutos do Mar'\").groupby(\"publicationDate\").size()\n",
        "dt_coco = pd.DataFrame({'date':serie_coco.index, 'qtd':serie_coco.values})\n",
        "dt_coco['date'] = pd.to_datetime(dt_coco['date'])\n",
        "dt_coco['quarter'] = dt_coco['date'].dt.quarter\n",
        "\n",
        "dt_coco2020 = dt_coco[dt_coco['date'].dt.strftime('%Y') == '2020']\n",
        "dt_coco2019 = dt_coco[dt_coco['date'].dt.strftime('%Y') == '2019']\n",
        "dt_coco2018 = dt_coco[dt_coco['date'].dt.strftime('%Y') == '2018']\n",
        "dt_coco2017 = dt_coco[dt_coco['date'].dt.strftime('%Y') == '2017']\n",
        "\n",
        "quarter2020 = dt_coco2020.groupby(\"quarter\").size().sort_index()\n",
        "quarter2019 = dt_coco2019.groupby(\"quarter\").size().sort_index()\n",
        "quarter2018 = dt_coco2018.groupby(\"quarter\").size().sort_index()\n",
        "quarter2017 = dt_coco2017.groupby(\"quarter\").size().sort_index()"
      ],
      "execution_count": 61,
      "outputs": []
    },
    {
      "cell_type": "code",
      "metadata": {
        "id": "ipfFFvQJ0b-E",
        "colab": {
          "base_uri": "https://localhost:8080/",
          "height": 444
        },
        "outputId": "5e20fc7d-9f4a-452f-923c-c5f8412b0810"
      },
      "source": [
        "\n",
        "figure(num=None, figsize=(14, 6), dpi=80)\n",
        "\n",
        "plt.plot(quarter2020.index, quarter2020.values, label=\"2020\")\n",
        "plt.plot(quarter2019.index, quarter2019.values, label=\"2019\")\n",
        "plt.plot(quarter2018.index, quarter2018.values, label=\"2018\")\n",
        "plt.plot(quarter2017.index, quarter2017.values, label=\"2017\")\n",
        "\n",
        "plt.legend()\n",
        "\n",
        "plt.xlabel('Quarter')\n",
        "plt.ylabel('Avaliações')\n",
        "\n",
        "plt.title('Avaliaçãoes de Usuários por Quarter')\n",
        "\n",
        "plt.show()"
      ],
      "execution_count": null,
      "outputs": [
        {
          "output_type": "display_data",
          "data": {
            "image/png": "[encoded data removed]",
            "text/plain": [
              "<Figure size 1120x480 with 1 Axes>"
            ]
          },
          "metadata": {
            "tags": [],
            "needs_background": "light"
          }
        }
      ]
    },
    {
      "cell_type": "markdown",
      "metadata": {
        "id": "kvfbvuhI_UaP"
      },
      "source": [
        "## Cidades Mais Avalidas vs Melhores Avaliadas"
      ]
    },
    {
      "cell_type": "code",
      "metadata": {
        "colab": {
          "base_uri": "https://localhost:8080/",
          "height": 510
        },
        "id": "WJLEoK3f35G2",
        "outputId": "e34cf943-2f1c-4841-e771-8678f3589b6a"
      },
      "source": [
        "cidades_mais_avaliadas = dt_traduzido.groupby(\"addressLocality\").size().sort_values()\n",
        "\n",
        "figure(num=None, figsize=(14, 6), dpi=80)\n",
        "\n",
        "plt.bar(cidades_mais_avaliadas.index, cidades_mais_avaliadas.values, width=0.3, label=\"Mais Avaliada\", color='g')\n",
        "plt.bar(cidades_melhor_avaliada.index, cidades_melhor_avaliada.values, width=0.3, label=\"Melhor Avaliação\", color='y')\n",
        "\n",
        "plt.xlabel('Cidades')\n",
        "plt.ylabel('Quantidade de Avaliações')\n",
        "\n",
        "plt.xticks(rotation=60)\n",
        "\n",
        "plt.title('Cidades que mais Avaliam Restaurantes')\n",
        "\n",
        "plt.show()\n",
        "\n"
      ],
      "execution_count": 56,
      "outputs": [
        {
          "output_type": "display_data",
          "data": {
            "image/png": "[encoded data removed]",
            "text/plain": [
              "<Figure size 1120x480 with 1 Axes>"
            ]
          },
          "metadata": {
            "tags": [],
            "needs_background": "light"
          }
        }
      ]
    },
    {
      "cell_type": "code",
      "metadata": {
        "colab": {
          "base_uri": "https://localhost:8080/",
          "height": 510
        },
        "id": "tj9eZ9IS_Moe",
        "outputId": "6bab5e6d-57b1-4219-dda6-0398bcc194f4"
      },
      "source": [
        "cidades_melhor_avaliada = dt_traduzido.groupby(\"addressLocality\").mean()[\"ratingValue\"].sort_values()\n",
        "\n",
        "figure(num=None, figsize=(14, 6), dpi=80)\n",
        "\n",
        "plt.bar(cidades_melhor_avaliada.index, cidades_melhor_avaliada.values, width=0.3, label=\"Melhor Avaliação\", color='y')\n",
        "\n",
        "plt.xlabel('Cidades')\n",
        "plt.ylabel('Quantidade de Avaliações')\n",
        "\n",
        "plt.xticks(rotation=60)\n",
        "\n",
        "plt.title('Cidades que mais Avaliam Restaurantes')\n",
        "\n",
        "plt.show()"
      ],
      "execution_count": 57,
      "outputs": [
        {
          "output_type": "display_data",
          "data": {
            "image/png": "[encoded data removed]",
            "text/plain": [
              "<Figure size 1120x480 with 1 Axes>"
            ]
          },
          "metadata": {
            "tags": [],
            "needs_background": "light"
          }
        }
      ]
    }
  ]
}